{
 "cells": [
  {
   "cell_type": "markdown",
   "metadata": {},
   "source": [
    "# Mine"
   ]
  },
  {
   "cell_type": "code",
   "execution_count": 1,
   "metadata": {},
   "outputs": [],
   "source": [
    "def bubble_sort(arr):\n",
    "    \n",
    "    for j in range(len(arr), 0, -1):\n",
    "        \n",
    "        for i in range(0, j-1):\n",
    "            \n",
    "            if arr[i] > arr[i+1]:\n",
    "                \n",
    "                arr[i], arr[i+1] = arr[i+1], arr[i]\n",
    "        \n",
    "            else:\n",
    "                \n",
    "                i = i+1 \n",
    "                \n",
    "    return arr       \n",
    "            "
   ]
  },
  {
   "cell_type": "code",
   "execution_count": 2,
   "metadata": {},
   "outputs": [
    {
     "data": {
      "text/plain": [
       "[1, 3, 5, 7, 9]"
      ]
     },
     "execution_count": 2,
     "metadata": {},
     "output_type": "execute_result"
    }
   ],
   "source": [
    "arr = [5,7,3,9,1]\n",
    "\n",
    "bubble_sort(arr)"
   ]
  },
  {
   "cell_type": "markdown",
   "metadata": {},
   "source": [
    "# Instructor"
   ]
  },
  {
   "cell_type": "code",
   "execution_count": 4,
   "metadata": {},
   "outputs": [],
   "source": [
    "def bubble_sort(arr):\n",
    "    \n",
    "    # For every element (arranged backwards)   # Ex: arr = [5,7,3,9,1]\n",
    "    for n in range(len(arr)-1,0,-1):      #從n的print-out中可以得知，n = 4，3，2，1\n",
    "                                          # reverse是 因為1st pass是要run完整個list => n = 4 (不能到5，因為 k+1)\n",
    "        print (\"This is n (big): \", n)    # 2nd pass就是run到list的 (總長-1) => n = 3 (因為list中的最右 element已經在上一run中被\n",
    "                                          # sorted)\n",
    "                                          #不用到n = 0 (因為n = 0時，k沒有值，而且list中的first element在n = 1的run中已經被sorted)\n",
    "        for k in range(n):\n",
    "            \n",
    "            print (\"This is k: \", k)\n",
    "            \n",
    "            # If we come to a point to switch\n",
    "            if arr[k]>arr[k+1]:           # bubble的組合: k & k+1 => Ex: n = 4時的k = 0 => arr[0] & arr[1]\n",
    "                \n",
    "                temp = arr[k]\n",
    "                arr[k] = arr[k+1]\n",
    "                arr[k+1] = temp\n",
    "    \n",
    "    print (arr)"
   ]
  },
  {
   "cell_type": "code",
   "execution_count": 5,
   "metadata": {},
   "outputs": [
    {
     "name": "stdout",
     "output_type": "stream",
     "text": [
      "This is n (big):  4\n",
      "This is k:  0\n",
      "This is k:  1\n",
      "This is k:  2\n",
      "This is k:  3\n",
      "This is n (big):  3\n",
      "This is k:  0\n",
      "This is k:  1\n",
      "This is k:  2\n",
      "This is n (big):  2\n",
      "This is k:  0\n",
      "This is k:  1\n",
      "This is n (big):  1\n",
      "This is k:  0\n",
      "[1, 3, 5, 7, 9]\n"
     ]
    }
   ],
   "source": [
    "arr = [5,7,3,9,1]\n",
    "\n",
    "bubble_sort(arr)"
   ]
  }
 ],
 "metadata": {
  "kernelspec": {
   "display_name": "Python 3",
   "language": "python",
   "name": "python3"
  },
  "language_info": {
   "codemirror_mode": {
    "name": "ipython",
    "version": 3
   },
   "file_extension": ".py",
   "mimetype": "text/x-python",
   "name": "python",
   "nbconvert_exporter": "python",
   "pygments_lexer": "ipython3",
   "version": "3.7.3"
  }
 },
 "nbformat": 4,
 "nbformat_minor": 2
}
